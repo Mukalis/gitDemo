{
  "nbformat": 4,
  "nbformat_minor": 0,
  "metadata": {
    "colab": {
      "name": "myDemoGit.ipynb",
      "provenance": [],
      "authorship_tag": "ABX9TyOxA2n3QO9aftfkX57SFhsu",
      "include_colab_link": true
    },
    "kernelspec": {
      "name": "python3",
      "display_name": "Python 3"
    },
    "language_info": {
      "name": "python"
    }
  },
  "cells": [
    {
      "cell_type": "markdown",
      "metadata": {
        "id": "view-in-github",
        "colab_type": "text"
      },
      "source": [
        "<a href=\"https://colab.research.google.com/github/Mukalis/gitDemo/blob/main/myDemoGit.ipynb\" target=\"_parent\"><img src=\"https://colab.research.google.com/assets/colab-badge.svg\" alt=\"Open In Colab\"/></a>"
      ]
    },
    {
      "cell_type": "code",
      "execution_count": null,
      "metadata": {
        "colab": {
          "base_uri": "https://localhost:8080/"
        },
        "id": "Mq-hMfpimyPe",
        "outputId": "22709ea1-8254-4531-e362-257c1cb78df7"
      },
      "outputs": [
        {
          "output_type": "stream",
          "name": "stdout",
          "text": [
            "hello Github\n"
          ]
        }
      ],
      "source": [
        "print('hello Github')"
      ]
    },
    {
      "cell_type": "code",
      "source": [
        "print('second time to say hello')"
      ],
      "metadata": {
        "id": "SAnwrVRO7rZM",
        "outputId": "4152e20e-ad70-4c3e-aa84-ec6505f650a1",
        "colab": {
          "base_uri": "https://localhost:8080/"
        }
      },
      "execution_count": 1,
      "outputs": [
        {
          "output_type": "stream",
          "name": "stdout",
          "text": [
            "second time to say hello\n"
          ]
        }
      ]
    }
  ]
}